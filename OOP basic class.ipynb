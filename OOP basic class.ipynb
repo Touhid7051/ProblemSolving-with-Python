{
 "cells": [
  {
   "cell_type": "code",
   "execution_count": 3,
   "metadata": {},
   "outputs": [
    {
     "name": "stdout",
     "output_type": "stream",
     "text": [
      "toyota\n",
      "blue\n",
      "Marcedes\n",
      "red\n",
      "Marcedes car is starting\n",
      "toyota car is starting\n"
     ]
    }
   ],
   "source": [
    "class car:\n",
    "    name=\"\"\n",
    "    color=\"\"\n",
    "    def __init__(self,name,color):\n",
    "        self.name=name\n",
    "        self.color=color\n",
    "        \n",
    "    def prnt(self):\n",
    "        print(self.name)\n",
    "        print(self.color)\n",
    "    \n",
    "    def start(self):\n",
    "        print(self.name,\"car is starting\")\n",
    "        \n",
    "        \n",
    "if __name__=='__main__':\n",
    "        \n",
    "    blue=car(\"toyota\",\"blue\")\n",
    "    red=car(\"Marcedes\",\"red\")\n",
    "    blue.prnt()\n",
    "    red.prnt()\n",
    "    red.start()\n",
    "    blue.start()"
   ]
  },
  {
   "cell_type": "code",
   "execution_count": null,
   "metadata": {},
   "outputs": [],
   "source": [
    "class My:\n",
    "    k=\"\"\n",
    "    \n",
    "    def __init__(self,k):\n",
    "        self.n=k\n",
    "    def prnt(self):\n",
    "        print(\"My Name is \",self.n)\n",
    "        \n",
    "new=My(\"ashid\")\n",
    "\n",
    "new.prnt()"
   ]
  },
  {
   "cell_type": "code",
   "execution_count": null,
   "metadata": {},
   "outputs": [],
   "source": [
    "class User:\n",
    "    name = \"\"\n",
    "    def __init__(self, name):\n",
    "        self.name = name\n",
    "    def sayHello(self):\n",
    "        print (\"Hello, my name is \" + self.name)\n",
    "# create virtual objects\n",
    "james = User(\"James\")\n",
    "david = User(\"David\")\n",
    "eric = User(\"Eric\")\n",
    "# call methods owned by virtual objects\n",
    "james.sayHello()\n",
    "david.sayHello()"
   ]
  },
  {
   "cell_type": "code",
   "execution_count": null,
   "metadata": {},
   "outputs": [],
   "source": [
    "print(\"before import\")\n",
    "import math\n",
    "\n",
    "print(\"before functionA\")\n",
    "def functionA():\n",
    "    print(\"Function A\")\n",
    "\n",
    "print(\"before functionB\")\n",
    "def functionB():\n",
    "    print(\"Function B {}\".format(math.sqrt(100)))\n",
    "\n",
    "print(\"before __name__ guard\")\n",
    "if __name__ == '__main__':\n",
    "    functionA()\n",
    "    functionB()\n",
    "print(\"after __name__ guard\")"
   ]
  },
  {
   "cell_type": "code",
   "execution_count": 2,
   "metadata": {},
   "outputs": [
    {
     "name": "stdout",
     "output_type": "stream",
     "text": [
      "['__class__', '__delattr__', '__dict__', '__dir__', '__doc__', '__eq__', '__format__', '__ge__', '__getattribute__', '__gt__', '__hash__', '__init__', '__init_subclass__', '__le__', '__lt__', '__module__', '__ne__', '__new__', '__reduce__', '__reduce_ex__', '__repr__', '__setattr__', '__sizeof__', '__str__', '__subclasshook__', '__weakref__', 'color', 'name', 'start']\n",
      "start\n",
      "ht\n"
     ]
    }
   ],
   "source": [
    "class car:\n",
    "    name=\"premio\"\n",
    "    color=\"white\"\n",
    "    \n",
    "    def start(self):\n",
    "        print(\"start\")\n",
    "pre=car()\n",
    "pre.start()\n",
    "pre.name=\"ht\"\n",
    "print(pre.name)"
   ]
  },
  {
   "cell_type": "code",
   "execution_count": null,
   "metadata": {},
   "outputs": [],
   "source": []
  }
 ],
 "metadata": {
  "kernelspec": {
   "display_name": "Python 3",
   "language": "python",
   "name": "python3"
  },
  "language_info": {
   "codemirror_mode": {
    "name": "ipython",
    "version": 3
   },
   "file_extension": ".py",
   "mimetype": "text/x-python",
   "name": "python",
   "nbconvert_exporter": "python",
   "pygments_lexer": "ipython3",
   "version": "3.7.1"
  }
 },
 "nbformat": 4,
 "nbformat_minor": 2
}
