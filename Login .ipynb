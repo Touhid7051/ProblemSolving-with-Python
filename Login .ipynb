{
 "cells": [
  {
   "cell_type": "code",
   "execution_count": 28,
   "metadata": {},
   "outputs": [
    {
     "name": "stdout",
     "output_type": "stream",
     "text": [
      "enter mail: sunday@gmail.com\n",
      "enter password: 12345\n",
      "login successful!!\n"
     ]
    }
   ],
   "source": [
    "class user:\n",
    "    name = ''\n",
    "    email = ''\n",
    "    password = ''\n",
    "    login=False\n",
    "\n",
    "    def sum(self):\n",
    "        email=input('enter mail: ')\n",
    "        password=input('enter password: ')\n",
    "\n",
    "        if email==self.email and password==self.password:\n",
    "            login=True\n",
    "            print('login successful!!')\n",
    "        else:\n",
    "            print('login failed')\n",
    "\n",
    "user1 = user()\n",
    "user1.name='tareq'\n",
    "user1.email='sunday@gmail.com'\n",
    "user1.password='12345'\n",
    "\n",
    "user1.sum()"
   ]
  },
  {
   "cell_type": "code",
   "execution_count": null,
   "metadata": {},
   "outputs": [],
   "source": []
  },
  {
   "cell_type": "code",
   "execution_count": null,
   "metadata": {},
   "outputs": [],
   "source": []
  }
 ],
 "metadata": {
  "kernelspec": {
   "display_name": "Python 3",
   "language": "python",
   "name": "python3"
  },
  "language_info": {
   "codemirror_mode": {
    "name": "ipython",
    "version": 3
   },
   "file_extension": ".py",
   "mimetype": "text/x-python",
   "name": "python",
   "nbconvert_exporter": "python",
   "pygments_lexer": "ipython3",
   "version": "3.7.1"
  }
 },
 "nbformat": 4,
 "nbformat_minor": 2
}
