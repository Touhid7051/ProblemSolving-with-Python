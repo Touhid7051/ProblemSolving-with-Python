{
 "cells": [
  {
   "cell_type": "code",
   "execution_count": null,
   "metadata": {},
   "outputs": [],
   "source": [
    "list=[]\n",
    "n=int(input(\"The Size Of List:\"))\n",
    "for i in range(n):\n",
    "    s=input(\"The Element:\")\n",
    "    list.append(s)\n",
    "    print(\"Current List: \",list)\n",
    "    \n",
    "def fun():    \n",
    "    print(\"\\n\\nWhat Do you want Now?\\n\",\"Press 1 for Update\\n\",\"Press 2 for Delete\\n\",\"Press 3 for Edit\\n\",\"Press 4 for Search\\n\",\"Press 5 for Sort\\n\",\"Press 6 for Delete All\\n\")\n",
    "\n",
    "    press=int(input(\"Select:\"))\n",
    "    if press==1:\n",
    "        update=input(\"Enter New Data: \")\n",
    "        list.append(update)\n",
    "        print(list)\n",
    "    elif press==2:\n",
    "        dl=input(\"Value to delete:\")\n",
    "        list.remove(dl)\n",
    "        print(list)\n",
    "    elif press==3:\n",
    "        poss=int(input(\"Enter possition value\"))\n",
    "        edit=input(\"Enter Value:\")\n",
    "        list[poss]=edit\n",
    "        print(list)\n",
    "    elif press==4:\n",
    "        item=input(\"Search:\")\n",
    "        if item in list:\n",
    "            print(\"The Item \",\"'\",item,\"'\", \" Exists in \",list)\n",
    "        else:\n",
    "            print(\"The item Not Found\")\n",
    "    elif press==5:\n",
    "        list.sort()\n",
    "        print(list)\n",
    "    elif press==6:\n",
    "        del list[:]\n",
    "        print(list)\n",
    "        print(\"The List Deleted Successfully\")\n",
    "    fun()\n",
    "fun()\n",
    "\n"
   ]
  },
  {
   "cell_type": "markdown",
   "metadata": {},
   "source": []
  }
 ],
 "metadata": {
  "kernelspec": {
   "display_name": "Python 3",
   "language": "python",
   "name": "python3"
  },
  "language_info": {
   "codemirror_mode": {
    "name": "ipython",
    "version": 3
   },
   "file_extension": ".py",
   "mimetype": "text/x-python",
   "name": "python",
   "nbconvert_exporter": "python",
   "pygments_lexer": "ipython3",
   "version": "3.7.1"
  }
 },
 "nbformat": 4,
 "nbformat_minor": 2
}
