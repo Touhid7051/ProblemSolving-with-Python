{
 "cells": [
  {
   "cell_type": "code",
   "execution_count": null,
   "metadata": {},
   "outputs": [],
   "source": [
    "politicleParties=['AAP','Elephent','Hand','Rest']\n",
    "electionYear=[\"2014\",\"2009\",\"2005\",\"2001\"]\n",
    "countryStatus=[\"worst\",\"developing\",\"developed\"]\n",
    "corruptionStatus=[\"Max\",\"Normal\",\"Min\"]\n",
    "for party in politicleParties:\n",
    "    year=input()\n",
    "    if year in electionYear:\n",
    "        if year == \"2014\":\n",
    "            print(\"AAp Wins!\")\n",
    "            print(\"Country status: \"+countryStatus[2])\n",
    "            print(\"Corruption Status: \"+corruptionStatus[2])\n",
    "            break\n",
    "        elif year == \"2009\":\n",
    "            print(\"Hand Won\")\n",
    "            print(\"Country status: \"+countryStatus[0])\n",
    "            print(\"Corruption Status: \"+corruptionStatus[0])\n",
    "            continue\n",
    "        elif year == \"2005\":\n",
    "            print(\"Hand won!\")\n",
    "            print(\"Country status: \"+countryStatus[0])\n",
    "            print(\"Corruption Status: \"+corruptionStatus[0])\n",
    "        elif year == \"2001\":\n",
    "            print(\"Rest Won!\")\n",
    "        else:\n",
    "            print(\"Wrong year of election!\")\n",
    "    else:\n",
    "        print(\"The above loop was just for demonstration purpose!\")"
   ]
  },
  {
   "cell_type": "markdown",
   "metadata": {},
   "source": []
  }
 ],
 "metadata": {
  "kernelspec": {
   "display_name": "Python 3",
   "language": "python",
   "name": "python3"
  },
  "language_info": {
   "codemirror_mode": {
    "name": "ipython",
    "version": 3
   },
   "file_extension": ".py",
   "mimetype": "text/x-python",
   "name": "python",
   "nbconvert_exporter": "python",
   "pygments_lexer": "ipython3",
   "version": "3.7.1"
  }
 },
 "nbformat": 4,
 "nbformat_minor": 2
}
