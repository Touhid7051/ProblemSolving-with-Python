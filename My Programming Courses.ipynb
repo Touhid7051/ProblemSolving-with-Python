{
 "cells": [
  {
   "cell_type": "code",
   "execution_count": null,
   "metadata": {},
   "outputs": [],
   "source": [
    "sub=['Python','C++','Java','Javascript']\n",
    "courseId=[\"1101\",\"1102\",\"1103\",\"1104\"]\n",
    "courseStatus=[\"Done\",\"Learnig\",\"Undone\"]\n",
    "skillStatus=[\"Best\",\"Normal\",\"Low\"]\n",
    "print(\"My Programming Courses!\")\n",
    "for i in sub:\n",
    "    cId=input(\"Course ID: \")\n",
    "    if cId in courseId:\n",
    "        if cId == \"1101\":\n",
    "            print(\"Course Name: \",sub[0])\n",
    "            print(\"Course status: \"+courseStatus[1])\n",
    "            print(\"Skill Status: \"+skillStatus[1])\n",
    "            break\n",
    "        elif cId == \"1102\":\n",
    "            print(\"Course Name: \",sub[1])\n",
    "            print(\"Course status: \"+courseStatus[0])\n",
    "            print(\"Skill Status: \"+skillStatus[0])\n",
    "            continue\n",
    "        elif cId == \"1103\":\n",
    "            print(\"Course Name: \",sub[2])\n",
    "            print(\"Course status: \"+courseStatus[2])\n",
    "            print(\"Skill Status: \"+skillStatus[2])\n",
    "        elif cId == \"1104\":\n",
    "            print(\"Course Name: \",sub[3])\n",
    "            print(\"Cousre Status: \",courseStatus[0])\n",
    "            print(\"Skill Status: \",skillStatus[0])\n",
    "        else:\n",
    "            print(\"Wrong year of election!\")\n",
    "    else:\n",
    "        print(\"The above loop was just for demonstration purpose!\")"
   ]
  },
  {
   "cell_type": "code",
   "execution_count": null,
   "metadata": {},
   "outputs": [],
   "source": [
    "\n",
    "\n",
    "\n",
    "\n",
    "\n",
    "\n",
    "\n",
    "\n",
    "\n",
    "\n",
    "\n",
    "\n",
    "\n",
    "\n",
    "\n",
    "\n",
    "\n",
    "\n",
    "\n",
    "\n",
    "\n",
    "\n"
   ]
  }
 ],
 "metadata": {
  "kernelspec": {
   "display_name": "Python 3",
   "language": "python",
   "name": "python3"
  },
  "language_info": {
   "codemirror_mode": {
    "name": "ipython",
    "version": 3
   },
   "file_extension": ".py",
   "mimetype": "text/x-python",
   "name": "python",
   "nbconvert_exporter": "python",
   "pygments_lexer": "ipython3",
   "version": "3.7.1"
  }
 },
 "nbformat": 4,
 "nbformat_minor": 2
}
