{
 "cells": [
  {
   "cell_type": "code",
   "execution_count": 12,
   "metadata": {},
   "outputs": [
    {
     "name": "stdout",
     "output_type": "stream",
     "text": [
      "enter:!aA12\n",
      "A\n",
      "a\n",
      "12\n",
      "\n"
     ]
    }
   ],
   "source": [
    "import re\n",
    "\n",
    "str=input(\"enter:\")\n",
    "up=''\n",
    "low=''\n",
    "n=''\n",
    "e=''\n",
    "\n",
    "\n",
    "for i in str:\n",
    "    if i.isupper():\n",
    "        up=up+i\n",
    "\n",
    "    if i.islower():\n",
    "        low=low+i\n",
    "    if i.isnumeric():\n",
    "        n=n+i\n",
    "    if i == re.compile('[@_!#$%^&*()<>?/\\|}{~:]'):\n",
    "        e+=i\n",
    "        \n",
    "        \n",
    "print(up)\n",
    "print(low)\n",
    "print(n)\n",
    "print(e)\n",
    "    "
   ]
  },
  {
   "cell_type": "code",
   "execution_count": null,
   "metadata": {},
   "outputs": [],
   "source": []
  },
  {
   "cell_type": "code",
   "execution_count": null,
   "metadata": {},
   "outputs": [],
   "source": []
  },
  {
   "cell_type": "code",
   "execution_count": null,
   "metadata": {},
   "outputs": [],
   "source": []
  }
 ],
 "metadata": {
  "kernelspec": {
   "display_name": "Python 3",
   "language": "python",
   "name": "python3"
  },
  "language_info": {
   "codemirror_mode": {
    "name": "ipython",
    "version": 3
   },
   "file_extension": ".py",
   "mimetype": "text/x-python",
   "name": "python",
   "nbconvert_exporter": "python",
   "pygments_lexer": "ipython3",
   "version": "3.7.1"
  }
 },
 "nbformat": 4,
 "nbformat_minor": 2
}
