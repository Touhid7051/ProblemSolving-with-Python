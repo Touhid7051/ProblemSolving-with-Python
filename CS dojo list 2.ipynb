{
 "cells": [
  {
   "cell_type": "code",
   "execution_count": null,
   "metadata": {},
   "outputs": [],
   "source": [
    "g=[5,4,4,3,1]\n",
    "\n",
    "t=0\n",
    "i=0\n",
    "while i<len(g) and g[i]>0:\n",
    "    t+=g[i]\n",
    "    i+=1\n",
    "print(t)"
   ]
  },
  {
   "cell_type": "code",
   "execution_count": null,
   "metadata": {},
   "outputs": [],
   "source": [
    "j=[5,4,4,3,1,-2,-3,-5]\n",
    "tot=0\n",
    "for e in j:\n",
    "    if e>=0:\n",
    "        break\n",
    "    tot+=e\n",
    "print(tot)"
   ]
  },
  {
   "cell_type": "code",
   "execution_count": null,
   "metadata": {},
   "outputs": [],
   "source": [
    "j=[5,4,4,3,1,-2,-3,-5]\n",
    "p=0\n",
    "i=0\n",
    "while j[i]<0:\n",
    "    p+=j[i]\n",
    "    i+=1\n",
    "print(p)\n",
    "        \n",
    "    "
   ]
  },
  {
   "cell_type": "code",
   "execution_count": 17,
   "metadata": {},
   "outputs": [
    {
     "name": "stdout",
     "output_type": "stream",
     "text": [
      "apple\n",
      "banana\n",
      "republic\n"
     ]
    }
   ],
   "source": [
    "a = [\"apple\",\"banana\",\"republic\"]\n",
    "\n",
    "for i in a:\n",
    "    print(i)"
   ]
  },
  {
   "cell_type": "code",
   "execution_count": null,
   "metadata": {},
   "outputs": [],
   "source": []
  }
 ],
 "metadata": {
  "kernelspec": {
   "display_name": "Python 3",
   "language": "python",
   "name": "python3"
  },
  "language_info": {
   "codemirror_mode": {
    "name": "ipython",
    "version": 3
   },
   "file_extension": ".py",
   "mimetype": "text/x-python",
   "name": "python",
   "nbconvert_exporter": "python",
   "pygments_lexer": "ipython3",
   "version": "3.7.1"
  }
 },
 "nbformat": 4,
 "nbformat_minor": 2
}
