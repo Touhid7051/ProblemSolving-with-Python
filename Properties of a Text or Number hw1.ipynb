{
 "cells": [
  {
   "cell_type": "code",
   "execution_count": 35,
   "metadata": {},
   "outputs": [
    {
     "name": "stdout",
     "output_type": "stream",
     "text": [
      "Input a Text:Tk\n",
      "This is an AlphaNumeric Text\n",
      "This is a title\n",
      "The Input Length is: 2\n"
     ]
    }
   ],
   "source": [
    "txt=input(\"Input a Text:\")\n",
    "\n",
    "if txt.isalnum()==True:\n",
    "    print(\"This is an AlphaNumeric Text\")\n",
    "    if txt.islower()==True:\n",
    "        print(\"The Text Contains Lowercase Charectar\")\n",
    "        print(txt,end=\" in Upper Case: \")\n",
    "        print(txt.upper())\n",
    "    if txt.isnumeric()==True:\n",
    "        print(\"This Text Contains only Possitive Number\")\n",
    "    if txt.isupper()==True:\n",
    "        print(\"All are the Upper case charecters\")\n",
    "        print(txt,end=\" in Lower Case: \")\n",
    "        print(txt.lower())\n",
    "    if txt.istitle()==True:\n",
    "        print(\"This is a title\")\n",
    "elif txt.isspace()==True:\n",
    "    print(\"Blank Input\")\n",
    "\n",
    "else:\n",
    "    print(\"The Text contains Symbol\",end=\" \")\n",
    "    num=int(txt)\n",
    "    if num<0:\n",
    "        print(\"Minus(-)\")\n",
    "        print(\"These is a Negative Number\") \n",
    "        print(\"Number in absolute form:\",abs(num))\n",
    "        \n",
    "print(\"The Input Length is:\",len(txt))\n",
    "    "
   ]
  },
  {
   "cell_type": "code",
   "execution_count": null,
   "metadata": {},
   "outputs": [],
   "source": []
  },
  {
   "cell_type": "code",
   "execution_count": null,
   "metadata": {},
   "outputs": [],
   "source": []
  },
  {
   "cell_type": "code",
   "execution_count": null,
   "metadata": {},
   "outputs": [],
   "source": []
  }
 ],
 "metadata": {
  "kernelspec": {
   "display_name": "Python 3",
   "language": "python",
   "name": "python3"
  },
  "language_info": {
   "codemirror_mode": {
    "name": "ipython",
    "version": 3
   },
   "file_extension": ".py",
   "mimetype": "text/x-python",
   "name": "python",
   "nbconvert_exporter": "python",
   "pygments_lexer": "ipython3",
   "version": "3.7.1"
  }
 },
 "nbformat": 4,
 "nbformat_minor": 2
}
