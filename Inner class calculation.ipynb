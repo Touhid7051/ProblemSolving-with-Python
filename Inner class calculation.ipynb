{
 "cells": [
  {
   "cell_type": "code",
   "execution_count": 3,
   "metadata": {},
   "outputs": [
    {
     "name": "stdout",
     "output_type": "stream",
     "text": [
      "1st:6\n",
      "2nd:9\n",
      "Summation is: 15\n",
      "Multiplication is 54\n",
      "Division is 0.6666666666666666\n",
      "Differance is -3\n"
     ]
    }
   ],
   "source": [
    "class Calculate:\n",
    "    def __init__(self):\n",
    "        self.a=int(input(\"1st:\"))\n",
    "        self.b=int(input(\"2nd:\"))\n",
    "        self.c = 0\n",
    "        self.Add=self.Add(self)\n",
    "        self.Mul=self.Mul(self)\n",
    "        self.Div=self.Div(self)\n",
    "        self.Sub=self.Sub(self)\n",
    "\n",
    "\n",
    "    class Add:\n",
    "\n",
    "        def __init__(self,outher):\n",
    "            self.Calculate=outher\n",
    "\n",
    "        def add(self):\n",
    "            self.Calculate.c=self.Calculate.a+self.Calculate.b\n",
    "            print(\"Summation is:\",self.Calculate.c)\n",
    "\n",
    "\n",
    "\n",
    "    class Mul:\n",
    "\n",
    "        def __init__(self,outher):\n",
    "            self.Calculate=outher\n",
    "\n",
    "        def mul(self):\n",
    "            self.Calculate.c=self.Calculate.a*self.Calculate.b\n",
    "            print(\"Multiplication is\",self.Calculate.c)\n",
    "\n",
    "    class Div:\n",
    "\n",
    "        def __init__(self,outher):\n",
    "            self.Calculate=outher\n",
    "\n",
    "        def div(self):\n",
    "            self.Calculate.c=self.Calculate.a/self.Calculate.b\n",
    "            print(\"Division is\",self.Calculate.c)\n",
    "\n",
    "    class Sub:\n",
    "\n",
    "        def __init__(self,outher):\n",
    "            self.Calculate=outher\n",
    "\n",
    "        def sub(self):\n",
    "            self.Calculate.c=self.Calculate.a-self.Calculate.b\n",
    "            print(\"Differance is\",self.Calculate.c)\n",
    "\n",
    "if __name__==\"__main__\":\n",
    "    cal=Calculate()\n",
    "    cal.Add.add()\n",
    "    cal.Mul.mul()\n",
    "    cal.Div.div()\n",
    "    cal.Sub.sub()\n",
    "\n",
    "\n",
    "\n"
   ]
  },
  {
   "cell_type": "code",
   "execution_count": null,
   "metadata": {},
   "outputs": [],
   "source": []
  }
 ],
 "metadata": {
  "kernelspec": {
   "display_name": "Python 3",
   "language": "python",
   "name": "python3"
  },
  "language_info": {
   "codemirror_mode": {
    "name": "ipython",
    "version": 3
   },
   "file_extension": ".py",
   "mimetype": "text/x-python",
   "name": "python",
   "nbconvert_exporter": "python",
   "pygments_lexer": "ipython3",
   "version": "3.7.1"
  }
 },
 "nbformat": 4,
 "nbformat_minor": 2
}
