{
 "cells": [
  {
   "cell_type": "code",
   "execution_count": 3,
   "metadata": {},
   "outputs": [
    {
     "name": "stdout",
     "output_type": "stream",
     "text": [
      "Opened database successfully\n"
     ]
    }
   ],
   "source": [
    "import sqlite3\n",
    "conn = sqlite3.connect('tou.sqlite')\n",
    "cursor = conn.cursor()\n",
    "print(\"Opened database successfully\")\n",
    "\n",
    "#Creating table A\n",
    "\n",
    "\n",
    "cursor.execute('''CREATE TABLE A\n",
    "(CustomerNo INT PRIMARY KEY NOT NULL,\n",
    "FirstName TEXT NOT NULL,\n",
    "LastName TEXT NOT NULL);''')\n",
    "\n",
    "\n",
    "\n",
    "#Creating Table B\n",
    "\n",
    "cursor.execute('''CREATE TABLE B\n",
    "(OrderNo INT PRIMARY KEY NOT NULL,\n",
    "EmployeeNo INT NOT NULL,\n",
    "CustomerNo REFERENCES A(CustomerNo),\n",
    "Supplier TEXT NOT NULL,\n",
    "Price TEXT NOT NULL);''')\n",
    "\n",
    "\n",
    "\n",
    "cursor.execute(\"INSERT INTO A (CustomerNo,FirstName,LastName) \\\n",
    "VALUES (1, 'Sally','Thompson')\");\n",
    "cursor.execute(\"INSERT INTO A (CustomerNo,FirstName,LastName) \\\n",
    "VALUES (2, 'Sally','Henderson')\");\n",
    "cursor.execute(\"INSERT INTO A (CustomerNo,FirstName,LastName) \\\n",
    "VALUES (3, 'Harry','Henderson')\");\n",
    "cursor.execute(\"INSERT INTO A (CustomerNo,FirstName,LastName) \\\n",
    "VALUES (4, 'Sandra','Wellington')\");\n",
    "\n",
    "\n",
    "\n",
    "cursor.execute(\"INSERT INTO B (OrderNo,EmployeeNo,CustomerNo,Supplier,Price) \\\n",
    "VALUES (1,1,42, 'Harrison', '$235' )\");\n",
    "cursor.execute(\"INSERT INTO B (OrderNo,EmployeeNo,CustomerNo,Supplier,Price) \\\n",
    "VALUES (2,4,1, 'Ford', '$234' )\");\n",
    "cursor.execute(\"INSERT INTO B (OrderNo,EmployeeNo,CustomerNo,Supplier,Price) \\\n",
    "VALUES (3,1,68, 'Harrison', '$415' )\");\n",
    "cursor.execute(\"INSERT INTO B (OrderNo,EmployeeNo,CustomerNo,Supplier,Price) \\\n",
    "VALUES (4,2,112, 'Ford', '$350' )\");\n",
    "cursor.execute(\"INSERT INTO B (OrderNo,EmployeeNo,CustomerNo,Supplier,Price) \\\n",
    "VALUES (5,3,42, 'Ford', '$234' )\");\n",
    "cursor.execute(\"INSERT INTO B (OrderNo,EmployeeNo,CustomerNo,Supplier,Price) \\\n",
    "VALUES (6,2,112, 'Ford', '$350' )\");\n",
    "cursor.execute(\"INSERT INTO B (OrderNo,EmployeeNo,CustomerNo,Supplier,Price) \\\n",
    "VALUES (7,2,42, 'Harrison', '$235' )\");\n",
    "conn.commit()\n",
    "conn.close()\n"
   ]
  },
  {
   "cell_type": "code",
   "execution_count": null,
   "metadata": {},
   "outputs": [],
   "source": []
  }
 ],
 "metadata": {
  "kernelspec": {
   "display_name": "Python 3",
   "language": "python",
   "name": "python3"
  },
  "language_info": {
   "codemirror_mode": {
    "name": "ipython",
    "version": 3
   },
   "file_extension": ".py",
   "mimetype": "text/x-python",
   "name": "python",
   "nbconvert_exporter": "python",
   "pygments_lexer": "ipython3",
   "version": "3.7.1"
  }
 },
 "nbformat": 4,
 "nbformat_minor": 2
}
