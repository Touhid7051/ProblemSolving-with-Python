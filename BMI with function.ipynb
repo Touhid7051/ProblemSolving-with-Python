{
 "cells": [
  {
   "cell_type": "code",
   "execution_count": 1,
   "metadata": {},
   "outputs": [
    {
     "name": "stdout",
     "output_type": "stream",
     "text": [
      "BMI: \n",
      "22.5\n"
     ]
    },
    {
     "data": {
      "text/plain": [
       "'Ajom Khan is Under weight'"
      ]
     },
     "execution_count": 1,
     "metadata": {},
     "output_type": "execute_result"
    }
   ],
   "source": [
    "#name=\"Touhid\"\n",
    "#height_m=2\n",
    "#weight_kg=100\n",
    "\n",
    "\n",
    "def fun(name,height_m,weight_kg):\n",
    "    bmi=weight_kg/(height_m ** 2)\n",
    "    print(\"BMI: \")\n",
    "    print(bmi)\n",
    "    if bmi<25:\n",
    "        return name+\" is Under weight\"\n",
    "    \n",
    "    \n",
    "    elif bmi>=25 and bmi<=45:\n",
    "        return name+\" is Normal\"\n",
    "\n",
    "    else:\n",
    "        return name+\" is Over Weight\"\n",
    "fun(\"Ajom Khan\",2,90)\n",
    "    \n"
   ]
  },
  {
   "cell_type": "code",
   "execution_count": null,
   "metadata": {},
   "outputs": [],
   "source": [
    "result1=fun(\"harun\",2,56)"
   ]
  },
  {
   "cell_type": "code",
   "execution_count": null,
   "metadata": {},
   "outputs": [],
   "source": [
    "print(result)"
   ]
  },
  {
   "cell_type": "code",
   "execution_count": null,
   "metadata": {},
   "outputs": [],
   "source": [
    "result"
   ]
  },
  {
   "cell_type": "code",
   "execution_count": 3,
   "metadata": {},
   "outputs": [],
   "source": [
    "def milestokm(miles):\n",
    "    km = 1.6 * miles\n",
    "    return km\n",
    "\n",
    "f=milestokm(45)\n",
    "print(f)\n",
    "    "
   ]
  },
  {
   "cell_type": "code",
   "execution_count": null,
   "metadata": {},
   "outputs": [],
   "source": []
  }
 ],
 "metadata": {
  "kernelspec": {
   "display_name": "Python 3",
   "language": "python",
   "name": "python3"
  },
  "language_info": {
   "codemirror_mode": {
    "name": "ipython",
    "version": 3
   },
   "file_extension": ".py",
   "mimetype": "text/x-python",
   "name": "python",
   "nbconvert_exporter": "python",
   "pygments_lexer": "ipython3",
   "version": "3.7.1"
  }
 },
 "nbformat": 4,
 "nbformat_minor": 2
}
