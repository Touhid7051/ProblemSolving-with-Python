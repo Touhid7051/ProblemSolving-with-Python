{
 "cells": [
  {
   "cell_type": "code",
   "execution_count": 9,
   "metadata": {},
   "outputs": [
    {
     "name": "stdout",
     "output_type": "stream",
     "text": [
      "Enter a Number Between 1 to 9 : 7\n",
      "Congratulations, you guessed it.\n",
      "(but you do not win any prizes!)\n",
      "Number is: 7\n"
     ]
    }
   ],
   "source": [
    "from random import*\n",
    "number = randint(1,9)\n",
    "guess = int(input('Enter a Number Between 1 to 9 : '))\n",
    "if guess == number:\n",
    "# New block starts here\n",
    "    print('Congratulations, you guessed it.')\n",
    "    print('(but you do not win any prizes!)')\n",
    "# New block ends here\n",
    "elif guess < number:\n",
    "# Another block\n",
    "    print('No, it is a little higher than that')\n",
    "# You can do whatever you want in a block ...\n",
    "else:\n",
    "    print('No, it is a little lower than that')\n",
    "# you must have guessed > number to reach here\n",
    "print('Number is:',number)\n",
    "# This last statement is always executed,\n",
    "# after the if statement is ex"
   ]
  },
  {
   "cell_type": "code",
   "execution_count": null,
   "metadata": {},
   "outputs": [],
   "source": []
  }
 ],
 "metadata": {
  "kernelspec": {
   "display_name": "Python 3",
   "language": "python",
   "name": "python3"
  },
  "language_info": {
   "codemirror_mode": {
    "name": "ipython",
    "version": 3
   },
   "file_extension": ".py",
   "mimetype": "text/x-python",
   "name": "python",
   "nbconvert_exporter": "python",
   "pygments_lexer": "ipython3",
   "version": "3.7.1"
  }
 },
 "nbformat": 4,
 "nbformat_minor": 2
}
