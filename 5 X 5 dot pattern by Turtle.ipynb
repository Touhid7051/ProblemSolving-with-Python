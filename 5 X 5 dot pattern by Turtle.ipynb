{
 "cells": [
  {
   "cell_type": "code",
   "execution_count": 12,
   "metadata": {},
   "outputs": [],
   "source": [
    "import turtle\n",
    "height=int(input(\"Enter Height\"))\n",
    "width=int()\n",
    "turtle.speed(2)\n",
    "turtle.penup()\n",
    "for i in range(height):\n",
    "    for j in range(width):\n",
    "        turtle.dot()\n",
    "        turtle.forward(20)\n",
    "    turtle.backward(20*width)\n",
    "    turtle.right(90)\n",
    "    turtle.forward(20)\n",
    "    turtle.left(90)\n",
    "turtle.exitonclick()"
   ]
  },
  {
   "cell_type": "code",
   "execution_count": null,
   "metadata": {},
   "outputs": [],
   "source": []
  }
 ],
 "metadata": {
  "kernelspec": {
   "display_name": "Python 3",
   "language": "python",
   "name": "python3"
  },
  "language_info": {
   "codemirror_mode": {
    "name": "ipython",
    "version": 3
   },
   "file_extension": ".py",
   "mimetype": "text/x-python",
   "name": "python",
   "nbconvert_exporter": "python",
   "pygments_lexer": "ipython3",
   "version": "3.7.1"
  }
 },
 "nbformat": 4,
 "nbformat_minor": 2
}
