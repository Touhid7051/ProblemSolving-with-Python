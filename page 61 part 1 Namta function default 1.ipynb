{
 "cells": [
  {
   "cell_type": "code",
   "execution_count": 11,
   "metadata": {},
   "outputs": [
    {
     "name": "stdout",
     "output_type": "stream",
     "text": [
      "Enter:98344\n",
      "98344 X 1 = 98344\n",
      "98344 X 2 = 196688\n",
      "98344 X 3 = 295032\n",
      "98344 X 4 = 393376\n",
      "98344 X 5 = 491720\n",
      "98344 X 6 = 590064\n",
      "98344 X 7 = 688408\n",
      "98344 X 8 = 786752\n",
      "98344 X 9 = 885096\n",
      "98344 X 10 = 983440\n"
     ]
    }
   ],
   "source": [
    "num=int(input(\"Enter:\"))\n",
    "\n",
    "def namta(n=1):\n",
    "    for i in range(1,11):\n",
    "        s=n*i\n",
    "        print(n,\"X\",i,\"=\",s)\n",
    "namta(num)"
   ]
  },
  {
   "cell_type": "code",
   "execution_count": null,
   "metadata": {},
   "outputs": [],
   "source": []
  }
 ],
 "metadata": {
  "kernelspec": {
   "display_name": "Python 3",
   "language": "python",
   "name": "python3"
  },
  "language_info": {
   "codemirror_mode": {
    "name": "ipython",
    "version": 3
   },
   "file_extension": ".py",
   "mimetype": "text/x-python",
   "name": "python",
   "nbconvert_exporter": "python",
   "pygments_lexer": "ipython3",
   "version": "3.7.1"
  }
 },
 "nbformat": 4,
 "nbformat_minor": 2
}
