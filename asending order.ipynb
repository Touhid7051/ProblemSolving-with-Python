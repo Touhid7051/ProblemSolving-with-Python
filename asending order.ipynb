{
 "cells": [
  {
   "cell_type": "code",
   "execution_count": null,
   "metadata": {},
   "outputs": [],
   "source": [
    "a=int(input())\n",
    "b=int(input())\n",
    "c=int(input())\n",
    "if a < b and b > c:\n",
    "    if a<c:\n",
    "        print(a,c,b)\n",
    "        \n",
    "    else:\n",
    "        print(c,a,b)\n",
    "        \n",
    "if b < a and a > c:\n",
    "    if b<c:\n",
    "        print(b,c,a)\n",
    "    else:\n",
    "        print(c,b,a)\n",
    "        \n",
    "if a < c and c>b:\n",
    "    if a<b:\n",
    "        print(a,b,c)\n",
    "    else:\n",
    "        print(b,a,c)\n",
    "print()\n",
    "print(a,b,c)\n",
    "\n",
    "        \n",
    "    "
   ]
  },
  {
   "cell_type": "code",
   "execution_count": null,
   "metadata": {},
   "outputs": [],
   "source": []
  },
  {
   "cell_type": "code",
   "execution_count": null,
   "metadata": {},
   "outputs": [],
   "source": []
  }
 ],
 "metadata": {
  "kernelspec": {
   "display_name": "Python 3",
   "language": "python",
   "name": "python3"
  },
  "language_info": {
   "codemirror_mode": {
    "name": "ipython",
    "version": 3
   },
   "file_extension": ".py",
   "mimetype": "text/x-python",
   "name": "python",
   "nbconvert_exporter": "python",
   "pygments_lexer": "ipython3",
   "version": "3.7.1"
  }
 },
 "nbformat": 4,
 "nbformat_minor": 2
}
