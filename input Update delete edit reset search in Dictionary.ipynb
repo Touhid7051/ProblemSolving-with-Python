{
 "cells": [
  {
   "cell_type": "code",
   "execution_count": null,
   "metadata": {},
   "outputs": [
    {
     "name": "stdout",
     "output_type": "stream",
     "text": [
      "Number of data?:6\n"
     ]
    }
   ],
   "source": [
    "mydic={}\n",
    "\n",
    "n=int(input(\"Number of data?:\"))\n",
    "for i in range(n):\n",
    "    key=input(\"Enter key:\")\n",
    "    value=input(\"Enter Value:\")\n",
    "    mydic[key]=value\n",
    "    print(\"Current Dictionary:\",mydic)\n",
    "    \n",
    "def myfun():    \n",
    "    press=int(input(\"\\n\\n 1 for Search\\n 2 for Update\\n 3 for Edit \\n 4 for Delete \\n 5 for Reset dictionary\\n 6 Delete whole Dictionary\\n \"))\n",
    "\n",
    "    global mydic\n",
    "    \n",
    "    if press==1:\n",
    "        search=input(\"Search by key:\")\n",
    "        if search in mydic:\n",
    "            print(\"The item is Found\\nThe value of \",\"'\",search,\"'\",\" is\",\"'\", mydic[search],\"'\")\n",
    "        else:\n",
    "            print(\"The Item NOT Found!\")\n",
    "\n",
    "    elif press==2:\n",
    "        nkey=input(\"Key to Update:\")\n",
    "        nvalue=input(\"Value to Update:\")\n",
    "        mydic[nkey]=nvalue\n",
    "        print(\"Updated Dictionary: \",mydic)\n",
    "    \n",
    "    elif press==3:\n",
    "        edit=input(\"Enter Key to Edit:\")\n",
    "        if edit in mydic:\n",
    "            ekey=edit\n",
    "            evalue=input(\"Value to Edit Dictionary\")\n",
    "            mydic[ekey]=evalue\n",
    "            print(\"Edited Dictionary is:\",mydic)\n",
    "        else:\n",
    "            print(\"The Item To edit does not Exist!\")\n",
    "            \n",
    "    elif press==4:\n",
    "        dlt=input(\"Enter Key To Delete:\")\n",
    "        mydic.pop(dlt)\n",
    "        print(\"Deleted Successfully!\\n\",mydic)\n",
    "        \n",
    "    elif press==5:\n",
    "        mydic.clear()\n",
    "        print(\"Dctionary Resets!\\n\",mydic)\n",
    "    \n",
    "    elif press==6:\n",
    "        del mydic\n",
    "        print(\"The Dictionary Deleted Successfully!\")\n",
    "    myfun()\n",
    "myfun()    "
   ]
  },
  {
   "cell_type": "code",
   "execution_count": null,
   "metadata": {},
   "outputs": [],
   "source": []
  }
 ],
 "metadata": {
  "kernelspec": {
   "display_name": "Python 3",
   "language": "python",
   "name": "python3"
  },
  "language_info": {
   "codemirror_mode": {
    "name": "ipython",
    "version": 3
   },
   "file_extension": ".py",
   "mimetype": "text/x-python",
   "name": "python",
   "nbconvert_exporter": "python",
   "pygments_lexer": "ipython3",
   "version": "3.7.1"
  }
 },
 "nbformat": 4,
 "nbformat_minor": 2
}
